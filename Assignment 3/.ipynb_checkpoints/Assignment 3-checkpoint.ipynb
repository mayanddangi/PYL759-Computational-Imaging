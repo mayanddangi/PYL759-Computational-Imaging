{
 "cells": [
  {
   "cell_type": "code",
   "execution_count": 1,
   "id": "6e81fa49",
   "metadata": {},
   "outputs": [],
   "source": [
    "import numpy as np\n",
    "import matplotlib.pyplot as plt\n",
    "from scipy import signal\n",
    "import tqdm\n",
    "# import cv2 as cv"
   ]
  },
  {
   "cell_type": "code",
   "execution_count": 2,
   "id": "a6d88b71",
   "metadata": {},
   "outputs": [],
   "source": [
    "# f = open(\"blurred_img_psf.raw\", \"rb\").read() \n",
    "# # A = np.fromfile(\"blurred_img_psf.raw\", dtype='int8', sep=\"\")\n",
    "# # A = np.reshape(A, (256, 512))"
   ]
  },
  {
   "cell_type": "code",
   "execution_count": 3,
   "id": "ba61310c",
   "metadata": {},
   "outputs": [],
   "source": [
    "A = np.genfromtxt(\"blurred_img_psf.csv\", delimiter=',')"
   ]
  },
  {
   "cell_type": "code",
   "execution_count": 4,
   "id": "277b4cfd",
   "metadata": {},
   "outputs": [],
   "source": [
    "blurr_img = A[0:255,0:255]\n",
    "psf = A[0:255,256:511]"
   ]
  },
  {
   "cell_type": "code",
   "execution_count": 5,
   "id": "9d1f2173",
   "metadata": {},
   "outputs": [
    {
     "data": {
      "text/plain": [
       "(255, 255)"
      ]
     },
     "execution_count": 5,
     "metadata": {},
     "output_type": "execute_result"
    }
   ],
   "source": [
    "blurr_img.shape"
   ]
  },
  {
   "cell_type": "code",
   "execution_count": 6,
   "id": "19ba7a52",
   "metadata": {},
   "outputs": [
    {
     "data": {
      "text/plain": [
       "(255, 255)"
      ]
     },
     "execution_count": 6,
     "metadata": {},
     "output_type": "execute_result"
    }
   ],
   "source": [
    "psf.shape"
   ]
  },
  {
   "cell_type": "code",
   "execution_count": 7,
   "id": "5aecb961",
   "metadata": {},
   "outputs": [],
   "source": [
    "# psf_hat = psf[255:-1:1,255:-1:1]"
   ]
  },
  {
   "cell_type": "code",
   "execution_count": 10,
   "id": "f0d30fa9",
   "metadata": {},
   "outputs": [],
   "source": [
    "psf_hat = blurr_img[::-1,::-1]"
   ]
  },
  {
   "cell_type": "code",
   "execution_count": null,
   "id": "56a3afb1",
   "metadata": {
    "scrolled": true
   },
   "outputs": [],
   "source": [
    "# latent_est = blurr_img; #initial estimate, or 0.5*ones(size(image));\n",
    "latent_est = 0.5*np.ones(blurr_img.shape)\n",
    "# PSF_HAT = PSF(end:-1:1,end:-1:1); #% spatially reversed psf\n",
    "#% iterate towards ML estimate for the latent image\n",
    "for i in tqdm.tqdm(range(0,10)):\n",
    "    est_conv = signal.convolve2d(latent_est,psf, mode='same')\n",
    "    relative_blur = blurr_img/est_conv;\n",
    "    error_est = signal.convolve2d(relative_blur,psf_hat, mode='same')\n",
    "    latent_est = latent_est * error_est"
   ]
  },
  {
   "cell_type": "code",
   "execution_count": null,
   "id": "a20321a1",
   "metadata": {},
   "outputs": [],
   "source": [
    "im, ax = plt.subplots(1, 2, figsize= (35,110))\n",
    "ax[0].imshow(blurr_img, cmap='gray')\n",
    "# ax[0].set_title(’Original Image’)\n",
    "ax[1].imshow(latent_est, cmap='gray')\n",
    "# ax[1].set_title(’Iterated Image’)"
   ]
  },
  {
   "cell_type": "code",
   "execution_count": null,
   "id": "bb9502db",
   "metadata": {},
   "outputs": [],
   "source": []
  }
 ],
 "metadata": {
  "kernelspec": {
   "display_name": "Python 3 (ipykernel)",
   "language": "python",
   "name": "python3"
  },
  "language_info": {
   "codemirror_mode": {
    "name": "ipython",
    "version": 3
   },
   "file_extension": ".py",
   "mimetype": "text/x-python",
   "name": "python",
   "nbconvert_exporter": "python",
   "pygments_lexer": "ipython3",
   "version": "3.9.12"
  }
 },
 "nbformat": 4,
 "nbformat_minor": 5
}
